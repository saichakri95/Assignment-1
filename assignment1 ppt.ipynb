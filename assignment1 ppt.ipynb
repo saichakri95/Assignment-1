{
 "cells": [
  {
   "cell_type": "code",
   "execution_count": 3,
   "id": "2f04ee76-81ed-45d4-9728-2d182dbd8d5e",
   "metadata": {},
   "outputs": [
    {
     "name": "stdout",
     "output_type": "stream",
     "text": [
      "[0, 1]\n"
     ]
    }
   ],
   "source": [
    "#question1 answer\n",
    "class two_sum:\n",
    "    def twosum(self,nums,target):\n",
    "        self.nums=nums\n",
    "        self.target=target\n",
    "        d={}\n",
    "        for i,j in enumerate(nums):\n",
    "            c=target-j\n",
    "            if c in d:\n",
    "                return [d[c],i]\n",
    "            d[j]=i\n",
    "        return []\n",
    "    \n",
    "nums=[2,7,11,15]\n",
    "target=9\n",
    "t=two_sum()\n",
    "output=t.twosum(nums,target)\n",
    "print(output)"
   ]
  },
  {
   "cell_type": "code",
   "execution_count": 4,
   "id": "b6d08632-06b4-4fbc-bb4c-44460b89fcf9",
   "metadata": {},
   "outputs": [
    {
     "name": "stdout",
     "output_type": "stream",
     "text": [
      "2\n"
     ]
    }
   ],
   "source": [
    "#question3 answer\n",
    "class solution:\n",
    "    def searchInsert(self,nums,target):\n",
    "        self.nums=nums\n",
    "        self.target=target\n",
    "        left = 0\n",
    "        right = len(nums)-1\n",
    "        while right>=left:\n",
    "            mid = (left + right)//2\n",
    "\n",
    "            if nums[mid]==target:\n",
    "                return mid\n",
    "            elif nums[mid]<target:\n",
    "                left = mid+1\n",
    "            else:\n",
    "                right = mid-1\n",
    "                \n",
    "        return left\n",
    "nums = [1,3,5,6]\n",
    "target = 5\n",
    "s=solution()\n",
    "output=s.searchInsert(nums,target)\n",
    "print(output)\n"
   ]
  },
  {
   "cell_type": "code",
   "execution_count": 5,
   "id": "d9b4f767-ab66-4649-9b10-9f2f0dd7eb48",
   "metadata": {},
   "outputs": [
    {
     "name": "stdout",
     "output_type": "stream",
     "text": [
      "['1', '2', '4']\n"
     ]
    }
   ],
   "source": [
    "#question 4 answer\n",
    "def plusOne(digits):\n",
    "    d=int(''.join(map(str,digits)))\n",
    "    d+=1\n",
    "    return list(str(d))\n",
    "digits=[1,2,3]\n",
    "print(plusOne(digits))\n"
   ]
  },
  {
   "cell_type": "code",
   "execution_count": 6,
   "id": "b7fccdf9-20e2-416d-a503-1cc5b1d02244",
   "metadata": {},
   "outputs": [
    {
     "name": "stdout",
     "output_type": "stream",
     "text": [
      "[1, 2, 2, 3, 5, 6]\n"
     ]
    }
   ],
   "source": [
    "#question 5 answer\n",
    "def merge(nums1,m,nums2,n):\n",
    "    i,j,k=m-1,n-1,m+n-1\n",
    "    while j>=0:\n",
    "        if i>=0 and nums1[i]>nums2[j]:\n",
    "            nums1[k]=nums1[i]\n",
    "            i-=1\n",
    "        else:\n",
    "            nums1[k]=nums2[j]\n",
    "            j-=1\n",
    "        k-=1\n",
    "    return nums1\n",
    "nums1=[1,2,3,0,0,0]\n",
    "m=3\n",
    "nums2=[2,5,6]\n",
    "n=3\n",
    "print(merge(nums1,m,nums2,n))"
   ]
  },
  {
   "cell_type": "code",
   "execution_count": 7,
   "id": "9f1f9120-2712-4763-9242-508730ae54b5",
   "metadata": {},
   "outputs": [
    {
     "name": "stdout",
     "output_type": "stream",
     "text": [
      "True\n"
     ]
    }
   ],
   "source": [
    "#question 6 answer\n",
    "def containsDuplicate(nums):\n",
    "        \n",
    "        hash_table = {}\n",
    "        \n",
    "        for p in range(len(nums)):\n",
    "           \n",
    "            if hash_table.get(nums[p]):\n",
    "                return True\n",
    "            else:\n",
    "                hash_table[nums[p]] = True\n",
    "        return False\n",
    "nums = [1,2,3,1]\n",
    "print(containsDuplicate(nums))"
   ]
  },
  {
   "cell_type": "code",
   "execution_count": 8,
   "id": "96c8b26d-1e73-4a55-a0ff-2581979f966d",
   "metadata": {},
   "outputs": [
    {
     "name": "stdout",
     "output_type": "stream",
     "text": [
      "[1, 3, 12, 0, 0]\n"
     ]
    }
   ],
   "source": [
    "#question 7 answer\n",
    "def moveZeroes(nums):\n",
    "    l, r = 0, 0\n",
    "    while r < len(nums):\n",
    "        if nums[l] == 0:\n",
    "            if nums[r] != 0:\n",
    "                nums[l], nums[r] = nums[r], nums[l]\n",
    "                l += 1\n",
    "                r += 1\n",
    "            else:\n",
    "                r += 1\n",
    "        else:\n",
    "            l += 1\n",
    "            r += 1\n",
    "    return nums\n",
    "nums = [0,1,0,3,12]\n",
    "print(moveZeroes(nums))"
   ]
  },
  {
   "cell_type": "code",
   "execution_count": null,
   "id": "492f54aa-3b90-4efa-bf17-bd34bef10ece",
   "metadata": {},
   "outputs": [],
   "source": [
    "#question 8 answer\n",
    "def findErrorNums(nums):\n",
    "        n = len(nums)\n",
    "        true_sum = n*(n+1)//2\n",
    "        actual_sum = sum(nums)\n",
    "        set_sum = sum(set(nums))\n",
    "        return [actual_sum - set_sum, true_sum - set_sum]\n",
    "        \n",
    "nums = [1,2,2,4,]\n",
    "print(findErrorNums(nums))"
   ]
  }
 ],
 "metadata": {
  "kernelspec": {
   "display_name": "Python 3 (ipykernel)",
   "language": "python",
   "name": "python3"
  },
  "language_info": {
   "codemirror_mode": {
    "name": "ipython",
    "version": 3
   },
   "file_extension": ".py",
   "mimetype": "text/x-python",
   "name": "python",
   "nbconvert_exporter": "python",
   "pygments_lexer": "ipython3",
   "version": "3.10.6"
  }
 },
 "nbformat": 4,
 "nbformat_minor": 5
}
